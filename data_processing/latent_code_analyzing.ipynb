{
 "cells": [
  {
   "cell_type": "code",
   "execution_count": 48,
   "id": "f7da59c1",
   "metadata": {},
   "outputs": [
    {
     "data": {
      "text/plain": [
       "'E:\\\\NTU_FYP\\\\FYP_Facial_Expression_Transfer\\\\data_processing'"
      ]
     },
     "execution_count": 48,
     "metadata": {},
     "output_type": "execute_result"
    }
   ],
   "source": [
    "import matplotlib.pyplot as plt\n",
    "import numpy as np\n",
    "import os\n",
    "\n",
    "os.getcwd()"
   ]
  },
  {
   "cell_type": "code",
   "execution_count": 100,
   "id": "8ade50b9",
   "metadata": {},
   "outputs": [],
   "source": [
    "code1_file = '..\\data\\code_analysis\\ex4\\seq_0.npy'\n",
    "code2_file = '..\\data\\code_analysis\\ex4\\seq_50.npy'"
   ]
  },
  {
   "cell_type": "code",
   "execution_count": 101,
   "id": "1d0fe441",
   "metadata": {},
   "outputs": [],
   "source": [
    "code1 = np.load(code1_file)\n",
    "code2 = np.load(code2_file)"
   ]
  },
  {
   "cell_type": "code",
   "execution_count": 102,
   "id": "cd92b193",
   "metadata": {},
   "outputs": [
    {
     "data": {
      "text/plain": [
       "(1, 18, 512)"
      ]
     },
     "execution_count": 102,
     "metadata": {},
     "output_type": "execute_result"
    }
   ],
   "source": [
    "code1.shape"
   ]
  },
  {
   "cell_type": "code",
   "execution_count": 103,
   "id": "3ba1dba5",
   "metadata": {},
   "outputs": [],
   "source": [
    "code_smile = code2 - code1\n",
    "code_smile = code_smile[0]"
   ]
  },
  {
   "cell_type": "code",
   "execution_count": null,
   "id": "e627eb52",
   "metadata": {},
   "outputs": [],
   "source": []
  },
  {
   "cell_type": "code",
   "execution_count": 104,
   "id": "03220539",
   "metadata": {},
   "outputs": [],
   "source": [
    "x = np.arange(1,19)\n",
    "y = np.linalg.norm(code_smile, axis=1)"
   ]
  },
  {
   "cell_type": "code",
   "execution_count": 107,
   "id": "f3a2d916",
   "metadata": {},
   "outputs": [
    {
     "data": {
      "image/png": "[encoded data removed]",
      "text/plain": [
       "<Figure size 720x432 with 1 Axes>"
      ]
     },
     "metadata": {
      "needs_background": "light"
     },
     "output_type": "display_data"
    }
   ],
   "source": [
    "plt.figure(figsize=(10,6))\n",
    "plt.bar(x,y)\n",
    "plt.xticks(x)\n",
    "plt.show()"
   ]
  },
  {
   "cell_type": "code",
   "execution_count": 108,
   "id": "395f54d9",
   "metadata": {},
   "outputs": [],
   "source": [
    "code_base = np.load('..\\data\\code_analysis\\ex3\\seq_0.npy')"
   ]
  },
  {
   "cell_type": "code",
   "execution_count": 109,
   "id": "a9b11d31",
   "metadata": {},
   "outputs": [
    {
     "data": {
      "text/plain": [
       "array([[[ -1.2536658 ,   2.7117603 ,  -2.1962843 , ...,   2.4974833 ,\n",
       "           3.7584164 ,  -2.5988889 ],\n",
       "        [ -0.4828432 ,  -2.026651  ,  -0.7891124 , ...,   3.6946418 ,\n",
       "          -0.29347146,  -1.7544647 ],\n",
       "        [  6.55946   , -11.772811  ,  26.58043   , ...,  -0.5149307 ,\n",
       "          -3.7058063 ,   3.2370715 ],\n",
       "        ...,\n",
       "        [ -1.4942914 ,   0.206259  ,  -0.92361015, ...,  -0.9287959 ,\n",
       "           0.978775  ,  -0.52354413],\n",
       "        [  0.21320435,   0.24667369,   0.41682774, ...,  -0.75811875,\n",
       "          -0.87140936,  -0.30934834],\n",
       "        [ -1.3372847 ,  -0.98653716,   0.24591143, ...,   0.6776275 ,\n",
       "          -0.15359339,  -0.14984313]]], dtype=float32)"
      ]
     },
     "execution_count": 109,
     "metadata": {},
     "output_type": "execute_result"
    }
   ],
   "source": [
    "code_base"
   ]
  },
  {
   "cell_type": "code",
   "execution_count": 110,
   "id": "6668892b",
   "metadata": {},
   "outputs": [],
   "source": [
    "base_layer3 = code_base[0][2] + 0.6 * (code2-code1)[0][2]\n",
    "base_layer5 = code_base[0][4] + 0.6 * (code2-code1)[0][4]"
   ]
  },
  {
   "cell_type": "code",
   "execution_count": 111,
   "id": "f593b700",
   "metadata": {},
   "outputs": [],
   "source": [
    "code_base_new = code_base\n",
    "code_base_new[0][2] = base_layer3\n",
    "code_base_new[0][4] = base_layer5"
   ]
  },
  {
   "cell_type": "code",
   "execution_count": 113,
   "id": "88e01b7d",
   "metadata": {},
   "outputs": [
    {
     "data": {
      "text/plain": [
       "(1, 18, 512)"
      ]
     },
     "execution_count": 113,
     "metadata": {},
     "output_type": "execute_result"
    }
   ],
   "source": [
    "code_base_new.shape"
   ]
  },
  {
   "cell_type": "code",
   "execution_count": 115,
   "id": "e086b65a",
   "metadata": {},
   "outputs": [
    {
     "name": "stdout",
     "output_type": "stream",
     "text": [
      "[100, 2, 3, 4, 5]\n",
      "[100, 2, 3, 4, 5]\n"
     ]
    }
   ],
   "source": [
    "list1 = [1,2,3,4,5]\n",
    "list2 = list1\n",
    "list2[0] = 100\n",
    "print(list1)\n",
    "print(list2)"
   ]
  },
  {
   "cell_type": "code",
   "execution_count": null,
   "id": "453cfebc",
   "metadata": {},
   "outputs": [],
   "source": []
  }
 ],
 "metadata": {
  "kernelspec": {
   "display_name": "Python 3 (ipykernel)",
   "language": "python",
   "name": "python3"
  },
  "language_info": {
   "codemirror_mode": {
    "name": "ipython",
    "version": 3
   },
   "file_extension": ".py",
   "mimetype": "text/x-python",
   "name": "python",
   "nbconvert_exporter": "python",
   "pygments_lexer": "ipython3",
   "version": "3.9.7"
  }
 },
 "nbformat": 4,
 "nbformat_minor": 5
}
